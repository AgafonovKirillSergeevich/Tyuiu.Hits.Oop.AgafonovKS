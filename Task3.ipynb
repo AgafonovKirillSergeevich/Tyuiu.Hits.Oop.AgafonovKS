{
 "cells": [
  {
   "cell_type": "markdown",
   "metadata": {},
   "source": [
    "<h1 style=\"color:DodgerBlue\">Индивидальный проект</h1>"
   ]
  },
  {
   "cell_type": "markdown",
   "metadata": {},
   "source": [
    "<h2 style=\"color:DodgerBlue\">Название проекта:</h2>\n",
    "\n",
    "----\n",
    "\n",
    "### Вариант задания 1\n",
    "\n"
   ]
  },
  {
   "cell_type": "markdown",
   "metadata": {},
   "source": [
    "<h2 style=\"color:DodgerBlue\">Описание проекта:</h2>\n",
    "\n",
    "----\n",
    "\n",
    "Создать базовый класс Person в C#, который будет представлять информацию о\n",
    "человеке. На основе этого класса разработать 2-3 производных класса,\n",
    "демонстрирующих принципы наследования и полиморфизма. В каждом из классов\n",
    "должны быть реализованы новые атрибуты и методы, а также переопределены\n",
    "некоторые методы базового класса для демонстрации полиморфизма.\n"
   ]
  },
  {
   "cell_type": "markdown",
   "metadata": {},
   "source": [
    "<h2 style=\"color:DodgerBlue\">Реализация:</h2>\n",
    "\n",
    "----"
   ]
  },
  {
   "cell_type": "code",
   "execution_count": 1,
   "metadata": {
    "dotnet_interactive": {
     "language": "csharp"
    },
    "polyglot_notebook": {
     "kernelName": "csharp"
    }
   },
   "outputs": [],
   "source": [
    "public class Person\n",
    "{\n",
    "    public string Name { get; set; }\n",
    "    public int Age { get; set; }\n",
    "    public string Gender { get; set; }\n",
    "\n",
    "    public Person(string name, int age, string gender)\n",
    "    {\n",
    "        Name = name;\n",
    "        Age = age;\n",
    "        Gender = gender;\n",
    "    }\n",
    "\n",
    "    // Метод для получения информации о человеке\n",
    "    public virtual string GetInfo()\n",
    "    {\n",
    "        return $\"Name: {Name}, Age: {Age}, Gender: {Gender}\";\n",
    "    }\n",
    "\n",
    "    // Метод для приветствия\n",
    "    public virtual void SayHello()\n",
    "    {\n",
    "        Console.WriteLine($\"Hello, my name is {Name}.\");\n",
    "    }\n",
    "}\n",
    "\n",
    "// Производный класс Student\n",
    "public class Student : Person\n",
    "{\n",
    "    public string University { get; set; }\n",
    "    public string Course { get; set; }\n",
    "\n",
    "    public Student(string name, int age, string gender, string university, string course)\n",
    "        : base(name, age, gender)\n",
    "    {\n",
    "        University = university;\n",
    "        Course = course;\n",
    "    }\n",
    "\n",
    "    // Переопределение метода SayHello\n",
    "    public override void SayHello()\n",
    "    {\n",
    "        Console.WriteLine($\"Hello, my name is {Name}, and I am a {Course} student at {University}.\");\n",
    "    }\n",
    "\n",
    "    // Можно переопределить и другие методы при необходимости\n",
    "}\n",
    "\n",
    "// Производный класс Employee\n",
    "public class Employee : Person\n",
    "{\n",
    "    public string Company { get; set; }\n",
    "    public double Salary { get; set; }\n",
    "\n",
    "    public Employee(string name, int age, string gender, string company, double salary)\n",
    "        : base(name, age, gender)\n",
    "    {\n",
    "        Company = company;\n",
    "        Salary = salary;\n",
    "    }\n",
    "\n",
    "    // Переопределение метода GetInfo\n",
    "    public override string GetInfo()\n",
    "    {\n",
    "        return base.GetInfo() + $\", Company: {Company}, Salary: {Salary}\";\n",
    "    }\n",
    "}\n",
    "\n",
    "// Производный класс Teacher\n",
    "public class Teacher : Person\n",
    "{\n",
    "    public string Subject { get; set; }\n",
    "    public int Experience { get; set; }\n",
    "\n",
    "    public Teacher(string name, int age, string gender, string subject, int experience)\n",
    "        : base(name, age, gender)\n",
    "    {\n",
    "        Subject = subject;\n",
    "        Experience = experience;\n",
    "    }\n",
    "\n",
    "    // Переопределение метода SayHello\n",
    "    public override void SayHello()\n",
    "    {\n",
    "        Console.WriteLine($\"Hello, my name is {Name}, and I have been teaching {Subject} for {Experience} years.\");\n",
    "    }\n",
    "}\n",
    "\n",
    "class Program\n",
    "{\n",
    "    static void Main()\n",
    "    {\n",
    "        // Пример использования классов\n",
    "        Student student = new Student(\"Alice\", 20, \"Female\", \"Harvard\", \"Computer Science\");\n",
    "        Employee employee = new Employee(\"Bob\", 30, \"Male\", \"Google\", 90000);\n",
    "        Teacher teacher = new Teacher(\"Carol\", 45, \"Female\", \"Mathematics\", 20);\n",
    "\n",
    "        // Вызов методов\n",
    "        student.SayHello();\n",
    "        Console.WriteLine(student.GetInfo());\n",
    "\n",
    "        employee.SayHello(); // Используется метод базового класса\n",
    "        Console.WriteLine(employee.GetInfo());\n",
    "\n",
    "        teacher.SayHello();\n",
    "        Console.WriteLine(teacher.GetInfo());\n",
    "    }\n",
    "}\n"
   ]
  }
 ],
 "metadata": {
  "kernelspec": {
   "display_name": ".NET (C#)",
   "language": "C#",
   "name": ".net-csharp"
  },
  "language_info": {
   "name": "polyglot-notebook"
  },
  "polyglot_notebook": {
   "kernelInfo": {
    "defaultKernelName": "csharp",
    "items": [
     {
      "aliases": [],
      "languageName": "csharp",
      "name": "csharp"
     }
    ]
   }
  }
 },
 "nbformat": 4,
 "nbformat_minor": 2
}
