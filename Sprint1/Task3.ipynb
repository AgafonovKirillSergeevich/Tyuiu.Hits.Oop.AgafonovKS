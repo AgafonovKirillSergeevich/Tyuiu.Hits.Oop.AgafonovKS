{
 "cells": [
  {
   "cell_type": "markdown",
   "metadata": {},
   "source": [
    "<h1 style=\"color:DodgerBlue\">Индивидальный проект</h1>"
   ]
  },
  {
   "cell_type": "markdown",
   "metadata": {},
   "source": [
    "<h2 style=\"color:DodgerBlue\">Название проекта:</h2>\n",
    "\n",
    "----\n",
    "\n",
    "### Вариант задания 1\n"
   ]
  },
  {
   "cell_type": "markdown",
   "metadata": {},
   "source": [
    "<h2 style=\"color:DodgerBlue\">Описание проекта:</h2>\n",
    "\n",
    "----\n",
    "\n",
    "Создать базовый класс Person в C#, который будет представлять информацию о\n",
    "человеке. На основе этого класса разработать 2-3 производных класса,\n",
    "демонстрирующих принципы наследования и полиморфизма. В каждом из классов\n",
    "должны быть реализованы новые атрибуты и методы, а также переопределены\n",
    "некоторые методы базового класса для демонстрации полиморфизма.\n",
    "\n",
    "#### Дополнительное задание\n",
    "Добавьте к сущестующим классам конструктора классов с использованием гетторов и сетторов и реализуйте взаимодействие объектов между собой"
   ]
  },
  {
   "cell_type": "markdown",
   "metadata": {},
   "source": [
    "<h2 style=\"color:DodgerBlue\">Реализация:</h2>\n",
    "\n",
    "----"
   ]
  },
  {
   "cell_type": "code",
   "execution_count": 1,
   "metadata": {
    "dotnet_interactive": {
     "language": "csharp"
    },
    "polyglot_notebook": {
     "kernelName": "csharp"
    }
   },
   "outputs": [
    {
     "name": "stdout",
     "output_type": "stream",
     "text": [
      "Привет, меня зовут Кирилл!\n",
      "Информация обо мне: возраст - 22, пол - Мужской\n",
      "Также я учусь в университете ТИУ на 2 курсе!\n",
      "В следующем году я уже буду на 3 курсе!\n",
      "Я работаю в компании - МЦСТ и получаю ЗП в размере - 100000₽\n",
      "каждый год моя зарплата увеличивается на 100000₽. через год моя зарплата будет равна - 200000₽\n"
     ]
    }
   ],
   "source": [
    "class Person\n",
    "{\n",
    "    private string name;\n",
    "    private int age;\n",
    "    private string gender;\n",
    "\n",
    "    public string Name\n",
    "    {\n",
    "        get{return name;}\n",
    "        set{name = value;}\n",
    "    }\n",
    "\n",
    "    public int Age\n",
    "    {\n",
    "        get{return age;}\n",
    "        set{age = value;}\n",
    "    }\n",
    "\n",
    "    public string Gender\n",
    "    {\n",
    "        get{return gender;}\n",
    "        set{gender = value;}\n",
    "    }\n",
    "\n",
    "    public virtual void SayHello()\n",
    "    {\n",
    "        Console.WriteLine($\"Привет, меня зовут {name}!\");\n",
    "    }\n",
    "\n",
    "    public virtual void GetInfo()\n",
    "    {\n",
    "        Console.WriteLine($\"Информация обо мне: возраст - {age}, пол - {gender}\");\n",
    "    }\n",
    "};\n",
    "\n",
    "class Student : Person\n",
    "{\n",
    "    private string university;\n",
    "    private int course;\n",
    "\n",
    "    public string University\n",
    "    {\n",
    "        get{return university;}\n",
    "        set{university = value;}\n",
    "    }\n",
    "\n",
    "    public int Course\n",
    "    {\n",
    "        get{return course;}\n",
    "        set{course = value;}\n",
    "    }\n",
    "\n",
    "    public override void SayHello()\n",
    "    {\n",
    "        Console.WriteLine($\"Также я учусь в университете {university} на {course} курсе!\");\n",
    "    }\n",
    "\n",
    "    public void CorseNextYear(int course){\n",
    "        Course+=course;\n",
    "        Console.WriteLine($\"В следующем году я уже буду на {Course} курсе!\");\n",
    "    }\n",
    "};\n",
    "\n",
    "Person person = new Person();\n",
    "\n",
    "person.Name = \"Кирилл\";\n",
    "person.Age = 22;\n",
    "person.Gender = \"Мужской\";\n",
    "\n",
    "\n",
    "person.SayHello();\n",
    "person.GetInfo();\n",
    "\n",
    "Student student = new Student();\n",
    "\n",
    "student.University = \"ТИУ\";\n",
    "student.Course = 2;\n",
    "student.SayHello();\n",
    "student.CorseNextYear(1);\n",
    "\n",
    "\n",
    "\n",
    "\n",
    "class Employee : Person\n",
    "{\n",
    "    private string company;\n",
    "    private int salary;\n",
    "\n",
    "    public string Company\n",
    "    {\n",
    "        get{return company;}\n",
    "        set{company = value;}\n",
    "    }\n",
    "\n",
    "    public int Salary\n",
    "    {\n",
    "        get{return salary;}\n",
    "        set{salary = value;}\n",
    "    }\n",
    "\n",
    "    public override void GetInfo()\n",
    "    {\n",
    "        Console.WriteLine($\"Я работаю в компании - {company} и получаю ЗП в размере - {salary}₽\");\n",
    "    }\n",
    "\n",
    "    public void SalaryInflation(int salary){\n",
    "        Salary+=salary;\n",
    "        Console.WriteLine($\"каждый год моя зарплата увеличивается на {salary}₽. через год моя зарплата будет равна - {Salary}₽\");\n",
    "    }\n",
    "};\n",
    "\n",
    "Employee employee = new Employee();\n",
    "\n",
    "employee.Company = \"МЦСТ\";\n",
    "employee.Salary = 100000;\n",
    "\n",
    "employee.GetInfo();\n",
    "employee.SalaryInflation(100000);"
   ]
  }
 ],
 "metadata": {
  "kernelspec": {
   "display_name": ".NET (C#)",
   "language": "C#",
   "name": ".net-csharp"
  },
  "language_info": {
   "name": "polyglot-notebook"
  },
  "polyglot_notebook": {
   "kernelInfo": {
    "defaultKernelName": "csharp",
    "items": [
     {
      "aliases": [],
      "languageName": "csharp",
      "name": "csharp"
     }
    ]
   }
  }
 },
 "nbformat": 4,
 "nbformat_minor": 2
}
