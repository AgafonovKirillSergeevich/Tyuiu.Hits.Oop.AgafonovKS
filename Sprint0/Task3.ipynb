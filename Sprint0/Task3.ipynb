{
 "cells": [
  {
   "cell_type": "markdown",
   "metadata": {},
   "source": [
    "<h1 style=\"color:DodgerBlue\">Индивидальный проект</h1>"
   ]
  },
  {
   "cell_type": "markdown",
   "metadata": {},
   "source": [
    "<h2 style=\"color:DodgerBlue\">Название проекта:</h2>\n",
    "\n",
    "----\n",
    "\n",
    "### Вариант задания 1\n",
    "\n"
   ]
  },
  {
   "cell_type": "markdown",
   "metadata": {},
   "source": [
    "<h2 style=\"color:DodgerBlue\">Описание проекта:</h2>\n",
    "\n",
    "----\n",
    "\n",
    "Создать базовый класс Person в C#, который будет представлять информацию о\n",
    "человеке. На основе этого класса разработать 2-3 производных класса,\n",
    "демонстрирующих принципы наследования и полиморфизма. В каждом из классов\n",
    "должны быть реализованы новые атрибуты и методы, а также переопределены\n",
    "некоторые методы базового класса для демонстрации полиморфизма.\n"
   ]
  },
  {
   "cell_type": "markdown",
   "metadata": {},
   "source": [
    "<h2 style=\"color:DodgerBlue\">Реализация:</h2>\n",
    "\n",
    "----"
   ]
  },
  {
   "cell_type": "code",
   "execution_count": 3,
   "metadata": {
    "dotnet_interactive": {
     "language": "csharp"
    },
    "polyglot_notebook": {
     "kernelName": "csharp"
    }
   },
   "outputs": [
    {
     "name": "stdout",
     "output_type": "stream",
     "text": [
      "Привет, меня зовут Кирилл!\n",
      "Информация обо мне: возраст - 22, пол - Мужской\n",
      "Также я учусь в университете ТИУ на 2 курсе!\n",
      "Я работаю в компании - МЦСТ и получаю ЗП в размере - 100000₽\n"
     ]
    }
   ],
   "source": [
    "class Person\n",
    "{\n",
    "    public string name;\n",
    "    public string age;\n",
    "    public string gender;\n",
    "\n",
    "    public virtual void SayHello()\n",
    "    {\n",
    "        Console.WriteLine($\"Привет, меня зовут {name}!\");\n",
    "    }\n",
    "\n",
    "    public virtual void GetInfo()\n",
    "    {\n",
    "        Console.WriteLine($\"Информация обо мне: возраст - {age}, пол - {gender}\");\n",
    "    }\n",
    "};\n",
    "\n",
    "class Student : Person\n",
    "{\n",
    "    public string university;\n",
    "    public string course;\n",
    "\n",
    "    public override void SayHello()\n",
    "    {\n",
    "        Console.WriteLine($\"Также я учусь в университете {university} на {course} курсе!\");\n",
    "    }\n",
    "};\n",
    "\n",
    "Person person = new Person();\n",
    "\n",
    "person.name = \"Кирилл\";\n",
    "person.age = \"22\";\n",
    "person.gender = \"Мужской\";\n",
    "\n",
    "\n",
    "person.SayHello();\n",
    "person.GetInfo();\n",
    "\n",
    "Student student = new Student();\n",
    "student.university = \"ТИУ\";\n",
    "student.course = \"2\";\n",
    "student.SayHello();\n",
    "\n",
    "\n",
    "\n",
    "class Employee : Person\n",
    "{\n",
    "    public string company;\n",
    "    public string salary;\n",
    "\n",
    "    public override void GetInfo()\n",
    "    {\n",
    "        Console.WriteLine($\"Я работаю в компании - {company} и получаю ЗП в размере - {salary}\");\n",
    "    }\n",
    "};\n",
    "\n",
    "Employee employee = new Employee();\n",
    "\n",
    "employee.company = \"МЦСТ\";\n",
    "employee.salary = \"100000₽\";\n",
    "\n",
    "employee.GetInfo();"
   ]
  }
 ],
 "metadata": {
  "kernelspec": {
   "display_name": ".NET (C#)",
   "language": "C#",
   "name": ".net-csharp"
  },
  "language_info": {
   "name": "polyglot-notebook"
  },
  "polyglot_notebook": {
   "kernelInfo": {
    "defaultKernelName": "csharp",
    "items": [
     {
      "aliases": [],
      "languageName": "csharp",
      "name": "csharp"
     }
    ]
   }
  }
 },
 "nbformat": 4,
 "nbformat_minor": 2
}
